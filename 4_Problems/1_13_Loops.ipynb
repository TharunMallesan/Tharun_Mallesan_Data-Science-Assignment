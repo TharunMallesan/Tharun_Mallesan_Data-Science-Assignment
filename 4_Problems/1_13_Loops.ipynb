{
  "cells": [
    {
      "cell_type": "markdown",
      "id": "d307ee11",
      "metadata": {
        "id": "d307ee11"
      },
      "source": [
        "<a target=\"_blank\" href=\"https://colab.research.google.com/github/lukebarousse/Python_Data_Analytics_Course/blob/main/4_Problems/1_13_Loops.ipynb\">\n",
        "  <img src=\"https://colab.research.google.com/assets/colab-badge.svg\" alt=\"Open In Colab\"/>\n",
        "</a>"
      ]
    },
    {
      "cell_type": "markdown",
      "id": "37897aa9",
      "metadata": {
        "id": "37897aa9"
      },
      "source": [
        "## 🟩 Print Job Titles (1.13.1)"
      ]
    },
    {
      "cell_type": "code",
      "execution_count": 2,
      "id": "45d217e3",
      "metadata": {
        "id": "45d217e3"
      },
      "outputs": [],
      "source": [
        "# Code Needed\n",
        "job_titles = ['Data Scientist', 'Data Analyst', 'Machine Learning Engineer']"
      ]
    },
    {
      "cell_type": "code",
      "source": [
        "for job in job_titles :\n",
        "  print(job)"
      ],
      "metadata": {
        "colab": {
          "base_uri": "https://localhost:8080/"
        },
        "id": "w4Spoi3XVgLG",
        "outputId": "c33d72ed-380a-479f-a70c-f48cfaf709ef"
      },
      "id": "w4Spoi3XVgLG",
      "execution_count": 3,
      "outputs": [
        {
          "output_type": "stream",
          "name": "stdout",
          "text": [
            "Data Scientist\n",
            "Data Analyst\n",
            "Machine Learning Engineer\n"
          ]
        }
      ]
    },
    {
      "cell_type": "markdown",
      "id": "1943a324",
      "metadata": {
        "id": "1943a324"
      },
      "source": [
        "---"
      ]
    },
    {
      "cell_type": "markdown",
      "id": "90020e24",
      "metadata": {
        "id": "90020e24"
      },
      "source": [
        "## 🟩 Total Job Postings (1.13.2)"
      ]
    },
    {
      "cell_type": "code",
      "execution_count": 4,
      "id": "038f046a",
      "metadata": {
        "id": "038f046a"
      },
      "outputs": [],
      "source": [
        "# Code Needed\n",
        "job_postings = [5, 10, 15, 20, 25]"
      ]
    },
    {
      "cell_type": "code",
      "source": [
        "total = 0\n",
        "for job in job_postings:\n",
        "  total += job\n",
        "print(\"total job_postings :\",total)\n"
      ],
      "metadata": {
        "colab": {
          "base_uri": "https://localhost:8080/"
        },
        "id": "nxTcHiYYVuEs",
        "outputId": "bb42b529-975d-4447-a79a-176ec1f57835"
      },
      "id": "nxTcHiYYVuEs",
      "execution_count": 5,
      "outputs": [
        {
          "output_type": "stream",
          "name": "stdout",
          "text": [
            "total job_postings : 75\n"
          ]
        }
      ]
    },
    {
      "cell_type": "markdown",
      "id": "b4abe1cc",
      "metadata": {
        "id": "b4abe1cc"
      },
      "source": [
        "---"
      ]
    },
    {
      "cell_type": "markdown",
      "id": "4eec072a",
      "metadata": {
        "id": "4eec072a"
      },
      "source": [
        "## 🟨 Print Job Titles with Index (1.13.3)"
      ]
    },
    {
      "cell_type": "code",
      "execution_count": 6,
      "id": "ee175f7b",
      "metadata": {
        "id": "ee175f7b"
      },
      "outputs": [],
      "source": [
        "# Code Needed\n",
        "job_titles = ['Data Scientist', 'Data Analyst', 'Machine Learning Engineer']"
      ]
    },
    {
      "cell_type": "code",
      "source": [
        "for i in range(len(job_titles)):\n",
        "  print(i, job_titles[i])\n"
      ],
      "metadata": {
        "colab": {
          "base_uri": "https://localhost:8080/"
        },
        "id": "N1cDZlUeaaBH",
        "outputId": "9f282354-2997-40e0-88be-ee9b1dd2cbc3"
      },
      "id": "N1cDZlUeaaBH",
      "execution_count": 7,
      "outputs": [
        {
          "output_type": "stream",
          "name": "stdout",
          "text": [
            "0 Data Scientist\n",
            "1 Data Analyst\n",
            "2 Machine Learning Engineer\n"
          ]
        }
      ]
    },
    {
      "cell_type": "markdown",
      "id": "d2d5f706",
      "metadata": {
        "id": "d2d5f706"
      },
      "source": [
        "---"
      ]
    },
    {
      "cell_type": "markdown",
      "id": "7001cfa8",
      "metadata": {
        "id": "7001cfa8"
      },
      "source": [
        "## 🟨 Find First Engineer (1.13.4)"
      ]
    },
    {
      "cell_type": "code",
      "execution_count": 8,
      "id": "724ac1bf",
      "metadata": {
        "id": "724ac1bf"
      },
      "outputs": [],
      "source": [
        "# Code Needed\n",
        "job_titles = ['Data Scientist', 'Data Analyst', 'Machine Learning Engineer', 'Software Engineer']"
      ]
    },
    {
      "cell_type": "code",
      "source": [
        "for title in job_titles:\n",
        "  if \"Engineer\" in title:\n",
        "    print(\"First Engineer title:\", title)\n",
        "    break\n"
      ],
      "metadata": {
        "colab": {
          "base_uri": "https://localhost:8080/"
        },
        "id": "-6RSpfL1X6Ox",
        "outputId": "e49936b5-0f46-4365-cebb-69ec17ee987a"
      },
      "id": "-6RSpfL1X6Ox",
      "execution_count": 9,
      "outputs": [
        {
          "output_type": "stream",
          "name": "stdout",
          "text": [
            "First Engineer title: Machine Learning Engineer\n"
          ]
        }
      ]
    },
    {
      "cell_type": "markdown",
      "id": "2021b7cd",
      "metadata": {
        "id": "2021b7cd"
      },
      "source": [
        "---"
      ]
    },
    {
      "cell_type": "code",
      "source": [
        "\n",
        "for title in job_titles:\n",
        "    if \"Engineer\" in title:\n",
        "        print(\"First Engineer title:\", title)\n",
        "        break"
      ],
      "metadata": {
        "colab": {
          "base_uri": "https://localhost:8080/"
        },
        "id": "Z_N2O4XHY1W4",
        "outputId": "7a36ffa4-ced6-4d18-9305-805d7bd621bb"
      },
      "id": "Z_N2O4XHY1W4",
      "execution_count": 10,
      "outputs": [
        {
          "output_type": "stream",
          "name": "stdout",
          "text": [
            "First Engineer title: Machine Learning Engineer\n"
          ]
        }
      ]
    },
    {
      "cell_type": "markdown",
      "id": "be1bf346",
      "metadata": {
        "id": "be1bf346"
      },
      "source": [
        "## 🟥 Print Job Titles Containing 'Data' (1.13.5)"
      ]
    },
    {
      "cell_type": "code",
      "execution_count": 11,
      "id": "c71d29c9",
      "metadata": {
        "id": "c71d29c9"
      },
      "outputs": [],
      "source": [
        "# Code Needed\n",
        "positions_skills = {\n",
        "    'Data Scientist': ['Python', 'R'],\n",
        "    'Data Analyst': ['SQL', 'Excel'],\n",
        "    'Machine Learning Engineer': ['Python', 'TensorFlow']\n",
        "}"
      ]
    },
    {
      "cell_type": "code",
      "source": [
        "for position in positions_skills:\n",
        "    if \"Data\" in position:\n",
        "        print(position)\n",
        "\n"
      ],
      "metadata": {
        "colab": {
          "base_uri": "https://localhost:8080/"
        },
        "id": "HI8ptaBUXQui",
        "outputId": "df70cfa6-8fc1-4aaf-a8f0-504b9e70e1b6"
      },
      "id": "HI8ptaBUXQui",
      "execution_count": 12,
      "outputs": [
        {
          "output_type": "stream",
          "name": "stdout",
          "text": [
            "Data Scientist\n",
            "Data Analyst\n"
          ]
        }
      ]
    },
    {
      "cell_type": "markdown",
      "id": "11af0530",
      "metadata": {
        "id": "11af0530"
      },
      "source": [
        "---"
      ]
    },
    {
      "cell_type": "code",
      "source": [
        "job_titles = ['Data Scientist', 'Data Analyst', 'Machine Learning Engineer', 'Software Engineer']\n",
        "\n",
        "for title in job_titles:\n",
        "    if \"Engineer\" in title:\n",
        "        print(\"First Engineer title:\", title)\n",
        "        break\n"
      ],
      "metadata": {
        "colab": {
          "base_uri": "https://localhost:8080/"
        },
        "id": "EgVtsHTMXL3V",
        "outputId": "ad772ac4-22dd-4b90-c8bb-85499a97a745"
      },
      "id": "EgVtsHTMXL3V",
      "execution_count": 13,
      "outputs": [
        {
          "output_type": "stream",
          "name": "stdout",
          "text": [
            "First Engineer title: Machine Learning Engineer\n"
          ]
        }
      ]
    },
    {
      "cell_type": "code",
      "source": [
        "a=int(input())\n",
        "b=int(input())\n",
        "for x in range (a+1,b):\n",
        "  print(x)"
      ],
      "metadata": {
        "colab": {
          "base_uri": "https://localhost:8080/"
        },
        "id": "jQS7HC0gODd2",
        "outputId": "b60ea250-2767-4139-fc8d-bed37f5f4709"
      },
      "id": "jQS7HC0gODd2",
      "execution_count": 18,
      "outputs": [
        {
          "output_type": "stream",
          "name": "stdout",
          "text": [
            "2\n",
            "5\n",
            "3\n",
            "4\n"
          ]
        }
      ]
    },
    {
      "cell_type": "code",
      "source": [
        "for i in range(1,11):\n",
        "  if i%2 ==0:\n",
        "        print(i)"
      ],
      "metadata": {
        "colab": {
          "base_uri": "https://localhost:8080/"
        },
        "id": "TJtmlfPRO2np",
        "outputId": "40827d70-9cdd-4f32-905f-e633b5473c9a"
      },
      "id": "TJtmlfPRO2np",
      "execution_count": 19,
      "outputs": [
        {
          "output_type": "stream",
          "name": "stdout",
          "text": [
            "2\n",
            "4\n",
            "6\n",
            "8\n",
            "10\n"
          ]
        }
      ]
    },
    {
      "cell_type": "code",
      "source": [
        "count = 0\n",
        "for i in range(1, 5):\n",
        "    if(i % 2 == 0):\n",
        "        count = count+1\n",
        "print(count)"
      ],
      "metadata": {
        "colab": {
          "base_uri": "https://localhost:8080/"
        },
        "id": "8kZMB9OxPi2b",
        "outputId": "be3cb286-e995-479c-dac0-151d02bfde01"
      },
      "id": "8kZMB9OxPi2b",
      "execution_count": 20,
      "outputs": [
        {
          "output_type": "stream",
          "name": "stdout",
          "text": [
            "2\n"
          ]
        }
      ]
    },
    {
      "cell_type": "code",
      "source": [
        "e_count = 0\n",
        "o_count = 0\n",
        "for i in range(1, 11):\n",
        "    if(i % 2 == 0):\n",
        "        e_count = e_count + 1\n",
        "    else:\n",
        "      o_count = o_count+1\n",
        "print(e_count)\n",
        "print(o_count)"
      ],
      "metadata": {
        "colab": {
          "base_uri": "https://localhost:8080/"
        },
        "id": "AdiGMcXnRpUs",
        "outputId": "7c0a0316-caf2-4738-bb15-9c49c3b90105"
      },
      "id": "AdiGMcXnRpUs",
      "execution_count": 21,
      "outputs": [
        {
          "output_type": "stream",
          "name": "stdout",
          "text": [
            "5\n",
            "5\n"
          ]
        }
      ]
    },
    {
      "cell_type": "code",
      "source": [
        "count = 0\n",
        "for i in range (1,101):\n",
        "  if (i%3==0 and i%5==0):\n",
        "    count = count+1\n",
        "print(count)\n"
      ],
      "metadata": {
        "colab": {
          "base_uri": "https://localhost:8080/"
        },
        "id": "4ZeEqrY4UZ4k",
        "outputId": "34fcebc9-5a77-4aca-a084-627c9859bc1d"
      },
      "id": "4ZeEqrY4UZ4k",
      "execution_count": 22,
      "outputs": [
        {
          "output_type": "stream",
          "name": "stdout",
          "text": [
            "6\n"
          ]
        }
      ]
    },
    {
      "cell_type": "code",
      "source": [
        "total = 0\n",
        "for i in range (1,6):\n",
        "  total = total+i\n",
        "print(total)"
      ],
      "metadata": {
        "colab": {
          "base_uri": "https://localhost:8080/"
        },
        "id": "br5XGtyRWtGK",
        "outputId": "8f8dee84-d820-4d39-d39a-d05b6b1553c5"
      },
      "id": "br5XGtyRWtGK",
      "execution_count": 29,
      "outputs": [
        {
          "output_type": "stream",
          "name": "stdout",
          "text": [
            "15\n"
          ]
        }
      ]
    },
    {
      "cell_type": "code",
      "source": [
        "a=[1,2,3,4,5]\n",
        "for i in a:\n",
        "  print(i)"
      ],
      "metadata": {
        "id": "u30jTcWAcrKd",
        "outputId": "ce7b9459-e5c7-4ecb-a71a-be47d5253812",
        "colab": {
          "base_uri": "https://localhost:8080/"
        }
      },
      "id": "u30jTcWAcrKd",
      "execution_count": 30,
      "outputs": [
        {
          "output_type": "stream",
          "name": "stdout",
          "text": [
            "1\n",
            "2\n",
            "3\n",
            "4\n",
            "5\n"
          ]
        }
      ]
    },
    {
      "cell_type": "code",
      "source": [
        "a=[]\n",
        "a.append(10)\n",
        "a.append(20)\n",
        "a.append(30)\n",
        "a.append(40)\n",
        "b=int(input())\n",
        "a.append(b)\n",
        "print(a)"
      ],
      "metadata": {
        "id": "yxgb3HgLdVDe",
        "outputId": "c7b466db-1879-417d-aa17-1f81d5440eeb",
        "colab": {
          "base_uri": "https://localhost:8080/"
        }
      },
      "id": "yxgb3HgLdVDe",
      "execution_count": 33,
      "outputs": [
        {
          "output_type": "stream",
          "name": "stdout",
          "text": [
            "50\n",
            "[10, 20, 30, 40, 50]\n"
          ]
        }
      ]
    },
    {
      "cell_type": "code",
      "source": [
        "a =[]\n",
        "print(\"Enter 10 Numbers:\")\n",
        "for i in range (5):\n",
        "  num=int(input(\"Enter num: \"+str(i+1)))\n",
        "  a.append(num)\n",
        "print(a)\n",
        "sum = 0\n",
        "for i in a:\n",
        "  sum = sum + i\n",
        "print(sum)"
      ],
      "metadata": {
        "id": "ENyA0ryWeveQ",
        "outputId": "9b26e211-c047-4d49-c38b-74fc7b36b139",
        "colab": {
          "base_uri": "https://localhost:8080/"
        }
      },
      "id": "ENyA0ryWeveQ",
      "execution_count": 44,
      "outputs": [
        {
          "output_type": "stream",
          "name": "stdout",
          "text": [
            "Enter 10 Numbers:\n",
            "Enter num: 110\n",
            "Enter num: 220\n",
            "Enter num: 330\n",
            "Enter num: 440\n",
            "Enter num: 550\n",
            "[10, 20, 30, 40, 50]\n",
            "150\n"
          ]
        }
      ]
    },
    {
      "cell_type": "code",
      "source": [
        "L=[]\n",
        "for i in range (7):\n",
        "  num=int(input(\"Enter num: \"+str(i+1)))\n",
        "  L.append(num)\n",
        "  print(L)\n",
        "sum = 0\n",
        "for i in L:\n",
        "  sum = sum + i\n",
        "print(sum)\n",
        "\n",
        ""
      ],
      "metadata": {
        "id": "743U6wv3gA5-",
        "outputId": "36f16a02-5f94-4f56-b3a1-bea1bc8a5592",
        "colab": {
          "base_uri": "https://localhost:8080/"
        }
      },
      "id": "743U6wv3gA5-",
      "execution_count": 48,
      "outputs": [
        {
          "output_type": "stream",
          "name": "stdout",
          "text": [
            "Enter num: 11\n",
            "[1]\n",
            "Enter num: 22\n",
            "[1, 2]\n",
            "Enter num: 33\n",
            "[1, 2, 3]\n",
            "Enter num: 44\n",
            "[1, 2, 3, 4]\n",
            "Enter num: 55\n",
            "[1, 2, 3, 4, 5]\n",
            "Enter num: 66\n",
            "[1, 2, 3, 4, 5, 6]\n",
            "Enter num: 77\n",
            "[1, 2, 3, 4, 5, 6, 7]\n",
            "28\n"
          ]
        }
      ]
    },
    {
      "cell_type": "code",
      "source": [
        "for i in range (1,6):\n",
        "  cube = (i*i*i)\n",
        "  print(f\"number is: {i} and cube of the {i} is:{cube}\")"
      ],
      "metadata": {
        "id": "LGU_Xmbckqmx",
        "outputId": "9222b833-4dd7-4d5d-dc41-457a192cda42",
        "colab": {
          "base_uri": "https://localhost:8080/"
        }
      },
      "id": "LGU_Xmbckqmx",
      "execution_count": 54,
      "outputs": [
        {
          "output_type": "stream",
          "name": "stdout",
          "text": [
            "number is: 1 and cube of the 1 is:1\n",
            "number is: 2 and cube of the 2 is:8\n",
            "number is: 3 and cube of the 3 is:27\n",
            "number is: 4 and cube of the 4 is:64\n",
            "number is: 5 and cube of the 5 is:125\n"
          ]
        }
      ]
    },
    {
      "cell_type": "code",
      "source": [],
      "metadata": {
        "id": "d3N372Xvm3f4"
      },
      "id": "d3N372Xvm3f4",
      "execution_count": 52,
      "outputs": []
    }
  ],
  "metadata": {
    "colab": {
      "provenance": []
    },
    "language_info": {
      "name": "python"
    },
    "kernelspec": {
      "name": "python3",
      "display_name": "Python 3"
    }
  },
  "nbformat": 4,
  "nbformat_minor": 5
}